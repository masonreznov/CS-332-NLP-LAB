{
  "cells": [
    {
      "cell_type": "markdown",
      "metadata": {
        "id": "view-in-github",
        "colab_type": "text"
      },
      "source": [
        "<a href=\"https://colab.research.google.com/github/masonreznov/CS-332-NLP-LAB/blob/main/LAB-6/Lab_6_language_modelling.ipynb\" target=\"_parent\"><img src=\"https://colab.research.google.com/assets/colab-badge.svg\" alt=\"Open In Colab\"/></a>"
      ]
    },
    {
      "cell_type": "code",
      "execution_count": null,
      "metadata": {
        "id": "zywacN8k9HUI"
      },
      "outputs": [],
      "source": [
        "from nltk.corpus import reuters\n",
        "from nltk import bigrams, trigrams\n",
        "from collections import Counter, defaultdict\n",
        "import nltk\n",
        "nltk.download('reuters')\n",
        "nltk.download('punkt')"
      ]
    },
    {
      "cell_type": "markdown",
      "metadata": {
        "id": "jD6mnG6-9HUO"
      },
      "source": [
        "### Build a trigram language model using a basic MLE estimator"
      ]
    },
    {
      "cell_type": "code",
      "execution_count": null,
      "metadata": {
        "id": "rg7R069L9HUQ"
      },
      "outputs": [],
      "source": [
        "## code referred from https://nlpforhackers.io/language-models/ and https://www.analyticsvidhya.com/blog/2019/08/comprehensive-guide-language-model-nlp-python-code/\n",
        "\n",
        "## empty default dict dictionary to initialise the language model\n",
        "## the model is a keyed-value datastructure which is of the form model[key*][key] storing the default value of 0 \n",
        "\n",
        "trigram_mle_model = defaultdict(lambda: defaultdict(lambda: 0))\n",
        "\n",
        "\n",
        "\n",
        "## Count frequency of co-occurance  \n",
        "for sentence in reuters.sents():\n",
        "    for w1, w2, w3 in trigrams(sentence, pad_right=True, pad_left=True):\n",
        "        trigram_mle_model[(w1, w2)][w3] += 1\n",
        "\n",
        "# ## Transform the counts to probabilities\n",
        "for w1_w2 in trigram_mle_model:\n",
        "    total_count = float(sum(trigram_mle_model[w1_w2].values()))\n",
        "    for w3 in trigram_mle_model[w1_w2]:\n",
        "        trigram_mle_model[w1_w2][w3] /= total_count"
      ]
    },
    {
      "cell_type": "code",
      "source": [
        "import nltk\n",
        "nltk.download('reuters')"
      ],
      "metadata": {
        "id": "XDsJcCBmiwNe"
      },
      "execution_count": null,
      "outputs": []
    },
    {
      "cell_type": "code",
      "execution_count": null,
      "metadata": {
        "id": "xLdc_M5U9HUR"
      },
      "outputs": [],
      "source": [
        "## Retrieving the probabilities of every other word following the context word 'he will'\n",
        "trigram_mle_model[\"he\",\"will\"]"
      ]
    },
    {
      "cell_type": "code",
      "execution_count": null,
      "metadata": {
        "id": "Qx2aRBUe9HUR"
      },
      "outputs": [],
      "source": [
        "## Retrieving the probabilities of the word 'ask' following the context word 'he will'\n",
        "trigram_mle_model[\"he\",\"will\"]['ask']"
      ]
    },
    {
      "cell_type": "markdown",
      "metadata": {
        "id": "R7m2JLJ89HUS"
      },
      "source": [
        "### Todo #1: Build a bigram language model using a basic MLE estimator"
      ]
    },
    {
      "cell_type": "code",
      "execution_count": null,
      "metadata": {
        "id": "btVOBakA9HUT"
      },
      "outputs": [],
      "source": [
        "## HINT refer the trigram model code\n",
        "\n",
        "bigram_mle_model = defaultdict(lambda: defaultdict(lambda: 0))\n",
        "\n",
        "for sentence in reuters.sents():\n",
        "    for w1, w2 in bigrams(sentence, pad_right=True, pad_left=True):\n",
        "        #TODO-1: count the occurence of w2 preceded by w1\n",
        "\n",
        "for w1 in bigram_mle_model:\n",
        "    total_count = float(sum(bigram_mle_model[w1].values()))\n",
        "    for w2 in bigram_mle_model[w1]:\n",
        "        #TODO-2: compute the prob of w2 given w1"
      ]
    },
    {
      "cell_type": "code",
      "execution_count": null,
      "metadata": {
        "id": "ElRr-zOO9HUU"
      },
      "outputs": [],
      "source": [
        "print(f\"trigram mle score: {trigram_mle_model['he','will']['ask']}\")\n",
        "print(\"------------------------------------------------------------\")\n",
        "print(f\"bigram mle score: {bigram_mle_model['he']['will']}\")\n",
        "\n"
      ]
    },
    {
      "cell_type": "markdown",
      "metadata": {
        "id": "Y5kO1_fF9HUU"
      },
      "source": [
        "### Language model estimation using nltk library"
      ]
    },
    {
      "cell_type": "code",
      "execution_count": null,
      "metadata": {
        "id": "aJ__oHYD9HUV"
      },
      "outputs": [],
      "source": [
        "from nltk.lm import MLE, Laplace, KneserNeyInterpolated\n",
        "from nltk.util import everygrams\n",
        "\n",
        "import nltk\n",
        "nltk.download(\"punkt\")"
      ]
    },
    {
      "cell_type": "code",
      "execution_count": null,
      "metadata": {
        "id": "KU7D05DN9HUW"
      },
      "outputs": [],
      "source": [
        "## MLE estimator\n",
        "## CODE referred from https://github.com/murthyrudra/IIITL_NLP_Lab/blob/main/Lab05/Lab05.ipynb\n",
        "# https://www.nltk.org/api/nltk.lm.html\n",
        "def build_mle_estimator(n):\n",
        "    texts = [w.lower() for w in reuters.words()]\n",
        "    \n",
        "    # generate ngrams\n",
        "    ngrams = list(everygrams(texts, max_len=n))\n",
        "\n",
        "    # build ngram language models\n",
        "    lm = MLE(n)\n",
        "    lm.fit([ngrams], vocabulary_text=texts)\n",
        "    print(lm.vocab)\n",
        "    \n",
        "    return lm"
      ]
    },
    {
      "cell_type": "code",
      "execution_count": null,
      "metadata": {
        "id": "SYO5Lk5R9HUW"
      },
      "outputs": [],
      "source": [
        "## the bigram MLE Language model\n",
        "lm_mle_bigram = build_mle_estimator(2)"
      ]
    },
    {
      "cell_type": "code",
      "execution_count": null,
      "metadata": {
        "id": "zJ4rHJKn9HUX"
      },
      "outputs": [],
      "source": [
        "## sample texts for testing the conditional probability of the next word give the context word/words\n",
        "def print_lm_scores(lm):\n",
        "    print(f\"Probability of 'he' followed by 'will': {lm.score(word='will', context=['he']):.5f}\")\n",
        "    print(f\"Probability of 'america' followed by 'first': {lm.score(word='first', context=['america']):.5f}\")\n",
        "\n",
        "    print(f\"Probability of 'you' followed by 'thank': {lm.score(word='thank', context=['you']):.5f}\")\n",
        "    print(f\"Probability of 'thank' followed by 'you': {lm.score(word='you', context=['thank']):.5f}\")\n"
      ]
    },
    {
      "cell_type": "code",
      "execution_count": null,
      "metadata": {
        "id": "Knh-SSWt9HUX"
      },
      "outputs": [],
      "source": [
        "print_lm_scores(lm_mle_bigram)"
      ]
    },
    {
      "cell_type": "markdown",
      "metadata": {
        "id": "rCD8Knnm9HUX"
      },
      "source": [
        "#### TODO-2: Build a laplace estimator\n",
        "\n",
        "Refer [this](https://www.nltk.org/api/nltk.lm.html)"
      ]
    },
    {
      "cell_type": "code",
      "execution_count": null,
      "metadata": {
        "id": "DFr6B37N9HUY"
      },
      "outputs": [],
      "source": [
        "\n",
        "def build_laplace_estimator(n):\n",
        "    texts = [w.lower() for w in reuters.words()]\n",
        "    \n",
        "    # generate ngrams\n",
        "    ngrams = list(everygrams(texts, max_len=n))\n",
        "\n",
        "    # build ngram language models\n",
        "    lm = # complete this line\n",
        "    lm.fit([ngrams], vocabulary_text=texts)\n",
        "    print(lm.vocab)\n",
        "    return lm"
      ]
    },
    {
      "cell_type": "code",
      "execution_count": null,
      "metadata": {
        "id": "A_Xpsmpi9HUY"
      },
      "outputs": [],
      "source": [
        "## the bigram Laplace Language model\n",
        "lm_laplace_bigram = build_laplace_estimator(2)"
      ]
    },
    {
      "cell_type": "code",
      "execution_count": null,
      "metadata": {
        "id": "c81cq0rL9HUY",
        "outputId": "fd08bc9e-37ba-4339-947c-4f0230a5c075"
      },
      "outputs": [
        {
          "name": "stdout",
          "output_type": "stream",
          "text": [
            "Probability of 'he' followed by 'will': 0.00154\n",
            "Probability of 'america' followed by 'first': 0.00010\n",
            "Probability of 'you' followed by 'thank': 0.00003\n",
            "Probability of 'thank' followed by 'you': 0.00003\n"
          ]
        }
      ],
      "source": [
        "## compare the scores of the bigram MLE and bigram laplace\n",
        "print_lm_scores(lm_mle_bigram)\n",
        "print_lm_scores(lm_laplace_bigram)"
      ]
    },
    {
      "cell_type": "code",
      "execution_count": null,
      "metadata": {
        "id": "vO8hc_L79HUZ"
      },
      "outputs": [],
      "source": [
        "lm_lap_tri = build_laplace_estimator(3)\n",
        "print_lm_scores(lm_lap_tri)"
      ]
    },
    {
      "cell_type": "markdown",
      "metadata": {
        "id": "24l8fc_n9HUZ"
      },
      "source": [
        "#### TODO-3: Build a interpolated kneyserney estimator\n",
        "\n",
        "Refer [this](https://www.nltk.org/api/nltk.lm.html)"
      ]
    },
    {
      "cell_type": "code",
      "execution_count": null,
      "metadata": {
        "id": "ciUpq83Q9HUZ"
      },
      "outputs": [],
      "source": [
        "def build_kneyser_estimator(n):\n",
        "    # comple the code\n",
        "\n",
        "    \n",
        "        \n",
        "    return lm"
      ]
    },
    {
      "cell_type": "code",
      "execution_count": null,
      "metadata": {
        "id": "tf7FBaCc9HUa"
      },
      "outputs": [],
      "source": [
        "lm_kn_bi = build_kneyser_estimator(2)\n",
        "lm_kn_tri = build_kneyser_estimator(3)"
      ]
    },
    {
      "cell_type": "code",
      "execution_count": null,
      "metadata": {
        "id": "qv7Gw2C29HUa"
      },
      "outputs": [],
      "source": [
        "print_lm_scores(lm_kn_bi)\n",
        "print_lm_scores(lm_kn_tri)\n"
      ]
    },
    {
      "cell_type": "code",
      "execution_count": null,
      "metadata": {
        "id": "IZQaVxCd9HUa"
      },
      "outputs": [],
      "source": [
        "##### You can generate words from the trained Language models using generate() in nltk\n",
        "##### Refer https://www.nltk.org/api/nltk.lm.html and generate words using lm.generate() for all the language models\n",
        "\n",
        "#### Try to generate the next 10 words given the context/seed word ['he','will'] for all the models"
      ]
    },
    {
      "cell_type": "markdown",
      "source": [
        "**Submit the colab notebook link in this [form](https://forms.gle/1f5zLKen8s3PaivK6) on or before 19/04/2022**"
      ],
      "metadata": {
        "id": "pM7dD862-9LP"
      }
    }
  ],
  "metadata": {
    "interpreter": {
      "hash": "524319ab1ba0d106b8ec4e3c5857ec8d9c75be8ce33193b53239dc1ea7a41145"
    },
    "kernelspec": {
      "display_name": "Python 3.8.10 64-bit ('py3810': venv)",
      "language": "python",
      "name": "python3"
    },
    "language_info": {
      "codemirror_mode": {
        "name": "ipython",
        "version": 3
      },
      "file_extension": ".py",
      "mimetype": "text/x-python",
      "name": "python",
      "nbconvert_exporter": "python",
      "pygments_lexer": "ipython3",
      "version": "3.8.10"
    },
    "orig_nbformat": 4,
    "colab": {
      "name": "Lab_6_language_modelling.ipynb",
      "provenance": [],
      "collapsed_sections": [],
      "include_colab_link": true
    }
  },
  "nbformat": 4,
  "nbformat_minor": 0
}